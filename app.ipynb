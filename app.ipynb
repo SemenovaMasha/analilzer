{
 "cells": [
  {
   "cell_type": "code",
   "execution_count": 1,
   "metadata": {},
   "outputs": [],
   "source": [
    "from flask import Flask\n",
    "from flask import Flask, flash, request, redirect, url_for\n",
    "from flask import send_file\n",
    "\n",
    "from flask import json\n",
    "from json import JSONEncoder\n",
    "\n",
    "import numpy as np\n",
    "import os\n",
    "from werkzeug.utils import secure_filename\n",
    "from flask import render_template\n",
    "from flask import Flask, make_response, request\n",
    "from flask import jsonify"
   ]
  },
  {
   "cell_type": "code",
   "execution_count": 2,
   "metadata": {},
   "outputs": [
    {
     "name": "stdout",
     "output_type": "stream",
     "text": [
      "importing Jupyter notebook from service.ipynb\n"
     ]
    }
   ],
   "source": [
    "import import_ipynb\n",
    "\n",
    "from service import analyze as ServiceAnalyze\n",
    "from service import trainModels\n",
    "from service import Statistics"
   ]
  },
  {
   "cell_type": "code",
   "execution_count": null,
   "metadata": {},
   "outputs": [],
   "source": []
  },
  {
   "cell_type": "code",
   "execution_count": 3,
   "metadata": {},
   "outputs": [],
   "source": [
    "\n",
    "# statistics =  Statistics()\n",
    "# #counts of y classes\n",
    "# statistics.initResultCounts = data.groupby(resultColumnName).size()\n",
    "# # statistics.describeTable = data.describe()\n",
    "# # statistics.mostImportatnt = mostImportantFeatures\n",
    "\n",
    "# statistics.scores = [1,3]\n",
    "\n",
    "# class StatisticsEncoder(json.JSONEncoder):\n",
    "#     def default(self, obj):\n",
    "#         if isinstance(obj, np.ndarray):\n",
    "#             if obj.flags['C_CONTIGUOUS']:\n",
    "#                 obj_data = obj.data\n",
    "#             else:\n",
    "#                 cont_obj = np.ascontiguousarray(obj)\n",
    "#                 assert(cont_obj.flags['C_CONTIGUOUS'])\n",
    "#                 obj_data = cont_obj.data\n",
    "#             ## data_b64 = base64.b64encode(obj_data)\n",
    "#             ## converting to base64 and returning a dictionary did not work\n",
    "#             ## return dict(__ndarray__ = data_b64, dtype = str(obj.dtype), shape = obj.shape)\n",
    "#             return obj.tolist()  ## instead, utilize numpy builtin tolist() method\n",
    "#         try:\n",
    "#             my_dict = obj.__dict__   ## <-- ERROR raised here\n",
    "#         except TypeError:\n",
    "#             pass\n",
    "#         else:\n",
    "#             return my_dict\n",
    "#         return json.JSONEncoder.default(self, obj)\n",
    "\n",
    "\n"
   ]
  },
  {
   "cell_type": "code",
   "execution_count": null,
   "metadata": {},
   "outputs": [],
   "source": []
  },
  {
   "cell_type": "code",
   "execution_count": null,
   "metadata": {},
   "outputs": [],
   "source": []
  },
  {
   "cell_type": "code",
   "execution_count": null,
   "metadata": {},
   "outputs": [],
   "source": []
  },
  {
   "cell_type": "code",
   "execution_count": 4,
   "metadata": {},
   "outputs": [],
   "source": [
    "UPLOAD_FOLDER = os.getcwd() + '\\\\files\\\\upload'\n",
    "ALLOWED_EXTENSIONS = {'zip', 'csv'}\n",
    "\n",
    "app = Flask(__name__,static_url_path='/files')\n",
    "\n",
    "@app.route(\"/\")\n",
    "@app.route(\"/train\", methods=['GET'])\n",
    "def train():\n",
    "    return render_template(\"train.html\")\n",
    "\n",
    "@app.route(\"/analyze\", methods=['GET'])\n",
    "def analyze():\n",
    "    return render_template(\"analyze.html\")"
   ]
  },
  {
   "cell_type": "code",
   "execution_count": 5,
   "metadata": {},
   "outputs": [],
   "source": [
    "def allowed_file(filename):\n",
    "    return '.' in filename and \\\n",
    "           filename.rsplit('.', 1)[1].lower() in ALLOWED_EXTENSIONS\n",
    "\n",
    "@app.route('/train', methods=['POST'])\n",
    "def upload_train_file():\n",
    "    # check if the post request has the file part\n",
    "    if 'file' not in request.files:\n",
    "        flash('No file part')\n",
    "        return redirect(request.url)\n",
    "    file = request.files['file']\n",
    "    # if user does not select file, browser also\n",
    "    # submit an empty part without filename\n",
    "    if file.filename == '':\n",
    "        flash('No selected file')\n",
    "        return redirect(request.url)\n",
    "    if file and allowed_file(file.filename):\n",
    "        filename = file.filename\n",
    "        file_name = secure_filename(filename)\n",
    "        file.save(UPLOAD_FOLDER+ '\\\\' + file_name)\n",
    "        \n",
    "        trainedFile = trainModels(UPLOAD_FOLDER+ '\\\\' + file_name)\n",
    "        \n",
    "        os.remove(UPLOAD_FOLDER+ '\\\\' + file_name)\n",
    "        return send_file(trainedFile, as_attachment=True)\n",
    "    \n",
    "\n",
    "@app.route('/analyze', methods=['POST'])\n",
    "def upload_analyze_file():\n",
    "    if 'file_trained' not in request.files or 'file_data' not in request.files:\n",
    "        flash('No file part')\n",
    "        return redirect(request.url)\n",
    "    file_trained = request.files['file_trained']\n",
    "    file_data = request.files['file_data']\n",
    "    if file_trained.filename == '':\n",
    "        flash('No selected file')\n",
    "    if file_data.filename == '':\n",
    "        flash('No selected file')\n",
    "        return redirect(request.url)\n",
    "    \n",
    "    if file_trained and allowed_file(file_trained.filename) and file_data and allowed_file(file_data.filename):\n",
    "        file_trained_name = file_trained.filename\n",
    "        file_trained_name = secure_filename(file_trained_name)\n",
    "        file_data_name = file_data.filename\n",
    "        file_data_name = secure_filename(file_data_name)\n",
    "        \n",
    "        file_trained.save(UPLOAD_FOLDER+ '\\\\' + file_trained_name)\n",
    "        file_data.save(UPLOAD_FOLDER+ '\\\\' + file_data_name)\n",
    "        \n",
    "        stats = ServiceAnalyze(UPLOAD_FOLDER+ '\\\\' + file_data_name, UPLOAD_FOLDER+ '\\\\' + file_trained_name)\n",
    "        \n",
    "        \n",
    "        initResultCounts = {}\n",
    "        for items in stats.initResultCounts.iteritems(): \n",
    "            initResultCounts[items[0]] = items[1]\n",
    "\n",
    "        scores = {}\n",
    "        for items in stats.scores: \n",
    "            scores[items.name] = items.score\n",
    "        mostImportant = []\n",
    "        for items in stats.mostImportatnt: \n",
    "            mostImportant.append(items)\n",
    "        jsonResponse = {\n",
    "            'reportId': stats.reportId,\n",
    "            'initResultCounts': initResultCounts,\n",
    "            'scores': scores,\n",
    "            'modelName': stats.modelNames,\n",
    "            'mostImportatnt': mostImportant,\n",
    "            'describeTable': stats.describeTable,\n",
    "        }\n",
    "                \n",
    "        os.remove(UPLOAD_FOLDER+ '\\\\' + file_trained_name)\n",
    "        os.remove(UPLOAD_FOLDER+ '\\\\' + file_data_name)\n",
    "\n",
    "    #                   describeTable = stats.describeTable, \n",
    "\n",
    "        return jsonify(jsonResponse)\n",
    "        \n",
    "        "
   ]
  },
  {
   "cell_type": "code",
   "execution_count": 6,
   "metadata": {},
   "outputs": [],
   "source": [
    "@app.route('/train', methods=['GET'])\n",
    "def download_report(ticks):\n",
    "    return send_file(os.getcwd() + '\\\\static\\\\reports\\\\' + ticks, as_attachment=True)\n",
    "    "
   ]
  },
  {
   "cell_type": "code",
   "execution_count": null,
   "metadata": {},
   "outputs": [],
   "source": []
  },
  {
   "cell_type": "code",
   "execution_count": null,
   "metadata": {},
   "outputs": [
    {
     "name": "stdout",
     "output_type": "stream",
     "text": [
      " * Serving Flask app \"__main__\" (lazy loading)\n",
      " * Environment: production\n",
      "   WARNING: This is a development server. Do not use it in a production deployment.\n",
      "   Use a production WSGI server instead.\n",
      " * Debug mode: off\n"
     ]
    },
    {
     "name": "stderr",
     "output_type": "stream",
     "text": [
      " * Running on http://127.0.0.1:5000/ (Press CTRL+C to quit)\n",
      "127.0.0.1 - - [03/Jun/2020 20:22:50] \"GET /analyze HTTP/1.1\" 200 -\n",
      "127.0.0.1 - - [03/Jun/2020 20:22:50] \"GET /files/css/index.css HTTP/1.1\" 200 -\n",
      "service.ipynb:57: MatplotlibDeprecationWarning: \n",
      "The tick1On function was deprecated in Matplotlib 3.1 and will be removed in 3.3. Use Tick.tick1line.set_visible instead.\n",
      "  \"source\": [\n",
      "service.ipynb:58: MatplotlibDeprecationWarning: \n",
      "The tick2On function was deprecated in Matplotlib 3.1 and will be removed in 3.3. Use Tick.tick2line.set_visible instead.\n",
      "  \"data = []\\n\",\n",
      "service.ipynb:60: MatplotlibDeprecationWarning: \n",
      "The tick1On function was deprecated in Matplotlib 3.1 and will be removed in 3.3. Use Tick.tick1line.set_visible instead.\n",
      "  \"models = []\\n\",\n",
      "service.ipynb:61: MatplotlibDeprecationWarning: \n",
      "The tick2On function was deprecated in Matplotlib 3.1 and will be removed in 3.3. Use Tick.tick2line.set_visible instead.\n",
      "  \"models2 = []\\n\",\n",
      "service.ipynb:57: MatplotlibDeprecationWarning: \n",
      "The tick1On function was deprecated in Matplotlib 3.1 and will be removed in 3.3. Use Tick.tick1line.set_visible instead.\n",
      "  \"source\": [\n",
      "service.ipynb:58: MatplotlibDeprecationWarning: \n",
      "The tick2On function was deprecated in Matplotlib 3.1 and will be removed in 3.3. Use Tick.tick2line.set_visible instead.\n",
      "  \"data = []\\n\",\n",
      "service.ipynb:60: MatplotlibDeprecationWarning: \n",
      "The tick1On function was deprecated in Matplotlib 3.1 and will be removed in 3.3. Use Tick.tick1line.set_visible instead.\n",
      "  \"models = []\\n\",\n",
      "service.ipynb:61: MatplotlibDeprecationWarning: \n",
      "The tick2On function was deprecated in Matplotlib 3.1 and will be removed in 3.3. Use Tick.tick2line.set_visible instead.\n",
      "  \"models2 = []\\n\",\n",
      "service.ipynb:57: MatplotlibDeprecationWarning: \n",
      "The tick1On function was deprecated in Matplotlib 3.1 and will be removed in 3.3. Use Tick.tick1line.set_visible instead.\n",
      "  \"source\": [\n",
      "service.ipynb:58: MatplotlibDeprecationWarning: \n",
      "The tick2On function was deprecated in Matplotlib 3.1 and will be removed in 3.3. Use Tick.tick2line.set_visible instead.\n",
      "  \"data = []\\n\",\n",
      "service.ipynb:60: MatplotlibDeprecationWarning: \n",
      "The tick1On function was deprecated in Matplotlib 3.1 and will be removed in 3.3. Use Tick.tick1line.set_visible instead.\n",
      "  \"models = []\\n\",\n",
      "service.ipynb:61: MatplotlibDeprecationWarning: \n",
      "The tick2On function was deprecated in Matplotlib 3.1 and will be removed in 3.3. Use Tick.tick2line.set_visible instead.\n",
      "  \"models2 = []\\n\",\n",
      "service.ipynb:69: SettingWithCopyWarning: \n",
      "A value is trying to be set on a copy of a slice from a DataFrame.\n",
      "Try using .loc[row_indexer,col_indexer] = value instead\n",
      "\n",
      "See the caveats in the documentation: http://pandas.pydata.org/pandas-docs/stable/user_guide/indexing.html#returning-a-view-versus-a-copy\n",
      "  \"    name = ''\\n\",\n",
      "127.0.0.1 - - [03/Jun/2020 20:22:59] \"POST /analyze HTTP/1.1\" 200 -\n",
      "127.0.0.1 - - [03/Jun/2020 20:22:59] \"GET /files/reports/1591204977/dist_by_regions.png HTTP/1.1\" 200 -\n",
      "127.0.0.1 - - [03/Jun/2020 20:22:59] \"GET /files/reports/1591204977/report1_tree.png HTTP/1.1\" 200 -\n",
      "127.0.0.1 - - [03/Jun/2020 20:22:59] \"GET /files/reports/1591204977/report1_kn.png HTTP/1.1\" 200 -\n",
      "127.0.0.1 - - [03/Jun/2020 20:22:59] \"GET /files/reports/1591204977/report2_tree.png HTTP/1.1\" 200 -\n",
      "127.0.0.1 - - [03/Jun/2020 20:22:59] \"GET /files/reports/1591204977/report2_kn.png HTTP/1.1\" 200 -\n",
      "127.0.0.1 - - [03/Jun/2020 20:22:59] \"GET /files/reports/1591204977/report1_lin.png HTTP/1.1\" 200 -\n",
      "127.0.0.1 - - [03/Jun/2020 20:22:59] \"GET /files/reports/1591204977/report2_lin.png HTTP/1.1\" 200 -\n"
     ]
    }
   ],
   "source": [
    "\n",
    "if __name__ == \"__main__\":\n",
    "    app.run()"
   ]
  },
  {
   "cell_type": "code",
   "execution_count": null,
   "metadata": {},
   "outputs": [],
   "source": []
  },
  {
   "cell_type": "code",
   "execution_count": null,
   "metadata": {},
   "outputs": [],
   "source": []
  },
  {
   "cell_type": "code",
   "execution_count": null,
   "metadata": {},
   "outputs": [],
   "source": []
  },
  {
   "cell_type": "code",
   "execution_count": null,
   "metadata": {},
   "outputs": [],
   "source": []
  },
  {
   "cell_type": "code",
   "execution_count": null,
   "metadata": {},
   "outputs": [],
   "source": []
  },
  {
   "cell_type": "code",
   "execution_count": null,
   "metadata": {},
   "outputs": [],
   "source": []
  },
  {
   "cell_type": "code",
   "execution_count": null,
   "metadata": {},
   "outputs": [],
   "source": []
  }
 ],
 "metadata": {
  "kernelspec": {
   "display_name": "Python 3",
   "language": "python",
   "name": "python3"
  },
  "language_info": {
   "codemirror_mode": {
    "name": "ipython",
    "version": 3
   },
   "file_extension": ".py",
   "mimetype": "text/x-python",
   "name": "python",
   "nbconvert_exporter": "python",
   "pygments_lexer": "ipython3",
   "version": "3.7.4"
  }
 },
 "nbformat": 4,
 "nbformat_minor": 2
}
